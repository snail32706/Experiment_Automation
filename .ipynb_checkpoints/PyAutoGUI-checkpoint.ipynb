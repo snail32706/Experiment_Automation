{
 "cells": [
  {
   "cell_type": "markdown",
   "id": "de5d718a-b487-4bb4-9021-cbbfc8c21ba9",
   "metadata": {},
   "source": [
    "## 使用 PyAutoGUI 控制實驗\n",
    "\n",
    "count_row = 1\n",
    "#### 打動程序\n",
    "先在最上排打上記號每三組一行（間隔為 Δx），打完三組換一個 pulse number（間隔為 1.5*Δx）。\n",
    "每個檔案都會存擋，檔名會是先放在一個 list，每次打洞會等待預設的 delay time, \n",
    "然後對 folder 檢查 檔案是否已經存擋，如果已經存擋，則移動 1.5*Δx，並執行下三個洞。\n",
    "count_row += 1\n",
    "\n",
    "#### 一排打洞完成後\n",
    "每當執行到最後一個 list，將回到 \"Home\" ，並且移動 count_row*Δy。\n",
    "\n",
    "#### 更改能量\n",
    "使用最後一個 pulse number 計算能量使否正確，\n",
    "首先，將 Δx 更改為 0，\n",
    "然後，將檔名更改為 Read_RTO_energy_{count_row}，並開始執行\n",
    "經過 delay time, 閱讀剛剛的 Read_RTO_energy_row{count_row}.txt。\n",
    "確認能量是否在正常的範圍，\n",
    "若不正確停止程序，並且發出警報聲。\n",
    "\n",
    "#### 繼續打洞\n",
    "移動 1.5*Δx。\n",
    "執行打洞。\n",
    "\n",
    "### 準備工作\n",
    "##### - 測試：\n",
    "    以不同能量的 pulse，看看最弱的雷射可否打出 LIPSS\n",
    "    \n",
    "##### - 開始：\n",
    "    1. Labview 放在「最左邊」\n",
    "    2. MAIN 放在「左上角」\n",
    "    3. 準備好 最弱的 energy，檔名為 energy_0\n",
    "    4. 修改 folder 「日期」。\n",
    "    \n"
   ]
  },
  {
   "cell_type": "code",
   "execution_count": 1,
   "id": "ad226edf-9cc1-4091-8ba7-994068a47147",
   "metadata": {},
   "outputs": [],
   "source": [
    "import pygetwindow as gw\n",
    "\n",
    "# # 获取所有打开的窗口      Δ\n",
    "# window_titles = gw.getAllTitles()\n",
    "\n",
    "# # 遍历窗口标题列表并打印\n",
    "# for title in window_titles:\n",
    "#     print(title)"
   ]
  },
  {
   "cell_type": "code",
   "execution_count": 2,
   "id": "b7d47aec-b58b-4d38-bce2-04d88a248bdb",
   "metadata": {},
   "outputs": [],
   "source": [
    "# 根据窗口标题获取窗口对象\n",
    "# window = gw.getWindowsWithTitle(\"LINE\")[0]\n",
    "# handle = window.handle"
   ]
  },
  {
   "cell_type": "code",
   "execution_count": 3,
   "id": "25ea0dda-09fa-47d4-adfa-1f88a0abbb35",
   "metadata": {},
   "outputs": [
    {
     "data": {
      "text/plain": [
       "True"
      ]
     },
     "execution_count": 3,
     "metadata": {},
     "output_type": "execute_result"
    }
   ],
   "source": [
    "import os\n",
    "\n",
    "def check_file(folder, file_name):\n",
    "    '''\n",
    "    檢查檔案，若沒有問題則 return True\n",
    "    '''\n",
    "\n",
    "    file_path = os.path.join(folder, file_name)\n",
    "    if os.path.isfile(file_path):\n",
    "        return True\n",
    "    else:\n",
    "        return False\n",
    "\n",
    "    \n",
    "check_file('/Users/k.y.chen/Documents/Coding_all/PyAutoGUI', 'main.py')"
   ]
  },
  {
   "cell_type": "code",
   "execution_count": 4,
   "id": "337f8299-e3c3-4274-adf4-18058e03f9fd",
   "metadata": {},
   "outputs": [
    {
     "name": "stdout",
     "output_type": "stream",
     "text": [
      "good\n"
     ]
    }
   ],
   "source": [
    "if not check_file('/Users/k.y.chen/Documents/Coding_all/PyAutoGUI', 'mai3n.py'):\n",
    "    print(\"good\")"
   ]
  },
  {
   "cell_type": "code",
   "execution_count": 10,
   "id": "c251e88e-e67d-4eec-9cf2-31e1e669fb85",
   "metadata": {
    "tags": []
   },
   "outputs": [
    {
     "name": "stdout",
     "output_type": "stream",
     "text": [
      "1\n"
     ]
    },
    {
     "data": {
      "text/plain": [
       "True"
      ]
     },
     "execution_count": 10,
     "metadata": {},
     "output_type": "execute_result"
    }
   ],
   "source": [
    "def find_file(N):\n",
    "    '''\n",
    "    while loop to find file.\n",
    "    等待 wait_total_time 後，Δtime 等待 20 次 回傳 break\n",
    "    '''\n",
    "    count_time = 0\n",
    "    while True:\n",
    "        count_time += 1\n",
    "        print(count_time)\n",
    "        if count_time > 20:\n",
    "            break\n",
    "        elif check_file('/Users/k.y.chen/Documents/Coding_all/PyAutoGUI', 'main.py') == True:\n",
    "            return True\n",
    "find_file(10)  "
   ]
  },
  {
   "cell_type": "code",
   "execution_count": 17,
   "id": "8ae455f1-bcd3-4572-a7db-89b2e299e53f",
   "metadata": {},
   "outputs": [
    {
     "name": "stdout",
     "output_type": "stream",
     "text": [
      "平均值：0.10741536\n",
      "标准差：0.0007483469424003839\n"
     ]
    }
   ],
   "source": [
    "import numpy as np\n",
    "def check_energy(abs_file_path, ):\n",
    "    '''\n",
    "    檢查檔案中的能量是否正確\n",
    "    '''\n",
    "    \n",
    "    rawdat_up = np.loadtxt(abs_file_path, delimiter='\\t')\n",
    "    mean_up, std_up = np.mean(rawdat), np.std(rawdat)\n",
    "    \n",
    "    rawdat = np.loadtxt(abs_file_path, delimiter='\\t')\n",
    "    mean, std = np.mean(rawdat), np.std(rawdat)\n",
    "    \n",
    "    if (std / mean * 100) > 15:\n",
    "        \n",
    "        print(\"energy StD false\")\n",
    "    \n",
    "\n",
    "    \n",
    "\n",
    "\n",
    "    print(f\"平均值：{mean}\")\n",
    "    print(f\"标准差：{std}\")\n",
    "\n",
    "\n",
    "\n",
    "\n",
    "    \n",
    "check_energy('/Users/k.y.chen/Documents/Coding_all/PyAutoGUI/test.txt')"
   ]
  },
  {
   "cell_type": "code",
   "execution_count": 19,
   "id": "b5a6ca4c-fb5b-4bb9-8e52-c1ee1f2444c8",
   "metadata": {},
   "outputs": [
    {
     "data": {
      "text/plain": [
       "0.10741536"
      ]
     },
     "execution_count": 19,
     "metadata": {},
     "output_type": "execute_result"
    }
   ],
   "source": [
    "rawdat = np.loadtxt('/Users/k.y.chen/Documents/Coding_all/PyAutoGUI/test.txt', delimiter='\\t')\n",
    "mean, std = np.mean(rawdat), np.std(rawdat)\n",
    "mean"
   ]
  },
  {
   "cell_type": "code",
   "execution_count": 24,
   "id": "7f48061e-2e24-438b-8bd2-dd324cd8b655",
   "metadata": {},
   "outputs": [
    {
     "name": "stdout",
     "output_type": "stream",
     "text": [
      "Collecting pygame\n",
      "  Downloading pygame-2.4.0-cp38-cp38-macosx_10_9_x86_64.whl (12.9 MB)\n",
      "\u001b[2K     \u001b[90m━━━━━━━━━━━━━━━━━━━━━━━━━━━━━━━━━━━━━━━━\u001b[0m \u001b[32m12.9/12.9 MB\u001b[0m \u001b[31m10.6 MB/s\u001b[0m eta \u001b[36m0:00:00\u001b[0m00:01\u001b[0m00:01\u001b[0m\n",
      "\u001b[?25hInstalling collected packages: pygame\n",
      "Successfully installed pygame-2.4.0\n"
     ]
    }
   ],
   "source": [
    "!pip install pygame\n"
   ]
  },
  {
   "cell_type": "code",
   "execution_count": 32,
   "id": "8e8974b5-4fcc-444f-95f2-2a49c74f7828",
   "metadata": {},
   "outputs": [
    {
     "ename": "error",
     "evalue": "No file 'error_music.mp3.mp3' found in working directory '/Users/k.y.chen/Documents/Coding_all/NYCU'.",
     "output_type": "error",
     "traceback": [
      "\u001b[0;31m---------------------------------------------------------------------------\u001b[0m",
      "\u001b[0;31merror\u001b[0m                                     Traceback (most recent call last)",
      "Cell \u001b[0;32mIn[32], line 10\u001b[0m\n\u001b[1;32m      7\u001b[0m     pygame\u001b[38;5;241m.\u001b[39mmixer\u001b[38;5;241m.\u001b[39mmusic\u001b[38;5;241m.\u001b[39mload(\u001b[38;5;124m\"\u001b[39m\u001b[38;5;124merror_music.mp3.mp3\u001b[39m\u001b[38;5;124m\"\u001b[39m)\n\u001b[1;32m      8\u001b[0m     pygame\u001b[38;5;241m.\u001b[39mmixer\u001b[38;5;241m.\u001b[39mmusic\u001b[38;5;241m.\u001b[39mplay()\n\u001b[0;32m---> 10\u001b[0m \u001b[43mStop\u001b[49m\u001b[43m(\u001b[49m\u001b[43m)\u001b[49m\n",
      "Cell \u001b[0;32mIn[32], line 7\u001b[0m, in \u001b[0;36mStop\u001b[0;34m()\u001b[0m\n\u001b[1;32m      4\u001b[0m \u001b[38;5;28;01mdef\u001b[39;00m \u001b[38;5;21mStop\u001b[39m():\n\u001b[1;32m      6\u001b[0m     pygame\u001b[38;5;241m.\u001b[39minit()\n\u001b[0;32m----> 7\u001b[0m     \u001b[43mpygame\u001b[49m\u001b[38;5;241;43m.\u001b[39;49m\u001b[43mmixer\u001b[49m\u001b[38;5;241;43m.\u001b[39;49m\u001b[43mmusic\u001b[49m\u001b[38;5;241;43m.\u001b[39;49m\u001b[43mload\u001b[49m\u001b[43m(\u001b[49m\u001b[38;5;124;43m\"\u001b[39;49m\u001b[38;5;124;43merror_music.mp3.mp3\u001b[39;49m\u001b[38;5;124;43m\"\u001b[39;49m\u001b[43m)\u001b[49m\n\u001b[1;32m      8\u001b[0m     pygame\u001b[38;5;241m.\u001b[39mmixer\u001b[38;5;241m.\u001b[39mmusic\u001b[38;5;241m.\u001b[39mplay()\n",
      "\u001b[0;31merror\u001b[0m: No file 'error_music.mp3.mp3' found in working directory '/Users/k.y.chen/Documents/Coding_all/NYCU'."
     ]
    }
   ],
   "source": [
    "import pygame\n",
    "\n",
    "\n",
    "def Stop():\n",
    "\n",
    "    pygame.init()\n",
    "    pygame.mixer.music.load(\"error_music.mp3.mp3\")\n",
    "    pygame.mixer.music.play()\n",
    "    \n",
    "Stop()"
   ]
  }
 ],
 "metadata": {
  "kernelspec": {
   "display_name": "Python 3 (ipykernel)",
   "language": "python",
   "name": "python3"
  },
  "language_info": {
   "codemirror_mode": {
    "name": "ipython",
    "version": 3
   },
   "file_extension": ".py",
   "mimetype": "text/x-python",
   "name": "python",
   "nbconvert_exporter": "python",
   "pygments_lexer": "ipython3",
   "version": "3.8.15"
  }
 },
 "nbformat": 4,
 "nbformat_minor": 5
}
