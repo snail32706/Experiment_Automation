{
 "cells": [
  {
   "cell_type": "markdown",
   "id": "de5d718a-b487-4bb4-9021-cbbfc8c21ba9",
   "metadata": {},
   "source": [
    "## 使用 PyAutoGUI 控制實驗\n",
    "\n",
    "count_row = 1\n",
    "#### 打動程序\n",
    "先在最上排打上記號每三組一行（間隔為 Δx），打完三組換一個 pulse number（間隔為 1.5*Δx）。\n",
    "每個檔案都會存擋，檔名會是先放在一個 list，每次打洞會等待預設的 delay time, \n",
    "然後對 folder 檢查 檔案是否已經存擋，如果已經存擋，則移動 1.5*Δx，並執行下三個洞。\n",
    "count_row += 1\n",
    "\n",
    "#### 一排打洞完成後\n",
    "每當執行到最後一個 list，將回到 \"Home\" ，並且移動 count_row*Δy。\n",
    "\n",
    "#### 更改能量\n",
    "使用最後一個 pulse number 計算能量使否正確，\n",
    "首先，將 Δx 更改為 0，\n",
    "然後，將檔名更改為 Read_RTO_energy_{count_row}，並開始執行\n",
    "經過 delay time, 閱讀剛剛的 Read_RTO_energy_row{count_row}.txt。\n",
    "確認能量是否在正常的範圍，\n",
    "若不正確停止程序，並且發出警報聲。\n",
    "\n",
    "#### 繼續打洞\n",
    "移動 1.5*Δx。\n",
    "執行打洞。\n",
    "\n",
    "### 準備工作\n",
    "##### - 測試：\n",
    "    以不同能量的 pulse，看看最弱的雷射可否打出 LIPSS\n",
    "    # check_energy(abs_file_path, up_data) # 測試檔案時，註解。\n",
    "    確認 X, Y 移動方向\n",
    "##### - 開始：\n",
    "    1. Labview 放在「最左邊」\n",
    "    2. MAIN 放在「左上角」\n",
    "    3. 準備好 最弱的 energy，檔名為 energy_0\n",
    "    4. 修改 folder 「日期」。\n",
    "    5. check_energy(abs_file_path, up_data)\n",
    "    \n",
    "##### - 正式：\n",
    "    更改\n",
    "    「# Code_Stop() # 終止程式」 ----> 「 Code_Stop() # 終止程式」\n"
   ]
  },
  {
   "cell_type": "code",
   "execution_count": 1,
   "id": "ad226edf-9cc1-4091-8ba7-994068a47147",
   "metadata": {},
   "outputs": [],
   "source": [
    "import pygetwindow as gw\n",
    "\n",
    "# # 获取所有打开的窗口      Δ\n",
    "# window_titles = gw.getAllTitles()\n",
    "\n",
    "# # 遍历窗口标题列表并打印\n",
    "# for title in window_titles:\n",
    "#     print(title)"
   ]
  },
  {
   "cell_type": "code",
   "execution_count": 2,
   "id": "b7d47aec-b58b-4d38-bce2-04d88a248bdb",
   "metadata": {},
   "outputs": [],
   "source": [
    "# 根据窗口标题获取窗口对象\n",
    "# window = gw.getWindowsWithTitle(\"LINE\")[0]\n",
    "# handle = window.handle"
   ]
  },
  {
   "cell_type": "code",
   "execution_count": 3,
   "id": "25ea0dda-09fa-47d4-adfa-1f88a0abbb35",
   "metadata": {},
   "outputs": [
    {
     "data": {
      "text/plain": [
       "True"
      ]
     },
     "execution_count": 3,
     "metadata": {},
     "output_type": "execute_result"
    }
   ],
   "source": [
    "import os\n",
    "\n",
    "def check_file(folder, file_name):\n",
    "    '''\n",
    "    檢查檔案，若沒有問題則 return True\n",
    "    '''\n",
    "\n",
    "    file_path = os.path.join(folder, file_name)\n",
    "    if os.path.isfile(file_path):\n",
    "        return True\n",
    "    else:\n",
    "        return False\n",
    "\n",
    "    \n",
    "check_file('/Users/k.y.chen/Documents/Coding_all/PyAutoGUI', 'main.py')"
   ]
  },
  {
   "cell_type": "code",
   "execution_count": 4,
   "id": "337f8299-e3c3-4274-adf4-18058e03f9fd",
   "metadata": {},
   "outputs": [
    {
     "name": "stdout",
     "output_type": "stream",
     "text": [
      "good\n"
     ]
    }
   ],
   "source": [
    "if not check_file('/Users/k.y.chen/Documents/Coding_all/PyAutoGUI', 'mai3n.py'):\n",
    "    print(\"good\")"
   ]
  },
  {
   "cell_type": "code",
   "execution_count": 5,
   "id": "c251e88e-e67d-4eec-9cf2-31e1e669fb85",
   "metadata": {
    "tags": []
   },
   "outputs": [
    {
     "name": "stdout",
     "output_type": "stream",
     "text": [
      "1\n"
     ]
    },
    {
     "data": {
      "text/plain": [
       "True"
      ]
     },
     "execution_count": 5,
     "metadata": {},
     "output_type": "execute_result"
    }
   ],
   "source": [
    "def find_file(N):\n",
    "    '''\n",
    "    while loop to find file.\n",
    "    等待 wait_total_time 後，Δtime 等待 20 次 回傳 break\n",
    "    '''\n",
    "    count_time = 0\n",
    "    while True:\n",
    "        count_time += 1\n",
    "        print(count_time)\n",
    "        if count_time > 20:\n",
    "            break\n",
    "        elif check_file('/Users/k.y.chen/Documents/Coding_all/PyAutoGUI', 'main.py') == True:\n",
    "            return True\n",
    "find_file(10)  "
   ]
  },
  {
   "cell_type": "code",
   "execution_count": 11,
   "id": "8ae455f1-bcd3-4572-a7db-89b2e299e53f",
   "metadata": {},
   "outputs": [],
   "source": [
    "import numpy as np\n",
    "def check_energy(abs_file_path, up_data):\n",
    "    '''\n",
    "    檢查檔案中的能量是否正確\n",
    "    '''\n",
    "    \n",
    "    rawdat_up = np.loadtxt(abs_file_path, delimiter='\\t')\n",
    "    mean_up, std_up = np.mean(rawdat_up), np.std(rawdat_up)\n",
    "    \n",
    "    rawdat = np.loadtxt(abs_file_path, delimiter='\\t')\n",
    "    mean, std = np.mean(rawdat), np.std(rawdat)\n",
    "    \n",
    "    if (std / mean * 100) > 15:\n",
    "        # Code_Stop() # 終止程式\n",
    "        print(\"energy StD false\")\n",
    "    '''\n",
    "    new 約等於 old * 1.2~1.5\n",
    "    new 不能比較小，也不能太大\n",
    "    \n",
    "    '''\n",
    "    elif mean < mean_up*0.8 or mean > mean_up*1.6\n",
    "        # Code_Stop() # 終止程式\n",
    "        print(\"能量有問題，檢查選轉圈數\")\n",
    "\n",
    "\n",
    "\n",
    "\n",
    "    \n",
    "check_energy('/Users/k.y.chen/Documents/Coding_all/PyAutoGUI/test.txt', '/Users/k.y.chen/Documents/Coding_all/PyAutoGUI/test.txt')"
   ]
  },
  {
   "cell_type": "code",
   "execution_count": null,
   "id": "b5a6ca4c-fb5b-4bb9-8e52-c1ee1f2444c8",
   "metadata": {},
   "outputs": [],
   "source": [
    "rawdat = np.loadtxt('/Users/k.y.chen/Documents/Coding_all/PyAutoGUI/test.txt', delimiter='\\t')\n",
    "mean, std = np.mean(rawdat), np.std(rawdat)\n",
    "mean"
   ]
  },
  {
   "cell_type": "code",
   "execution_count": null,
   "id": "7f48061e-2e24-438b-8bd2-dd324cd8b655",
   "metadata": {},
   "outputs": [],
   "source": [
    "!pip install pygame\n"
   ]
  },
  {
   "cell_type": "code",
   "execution_count": null,
   "id": "8e8974b5-4fcc-444f-95f2-2a49c74f7828",
   "metadata": {},
   "outputs": [],
   "source": [
    "import pygame\n",
    "import sys\n",
    "import time\n",
    "\n",
    "def Stop():\n",
    "    '''\n",
    "    錯誤訊息跳出警報聲，\n",
    "    使用 \"esc\" 跳出程式\n",
    "    '''\n",
    "    pygame.init()\n",
    "    pygame.mixer.music.load(\"error_music.mp3\")\n",
    "    pygame.mixer.music.play()\n",
    "\n",
    "    start_time = time.time()  # 获取系统的开始时间\n",
    "\n",
    "    while True:\n",
    "        current_time = time.time()  # 获取当前时间\n",
    "\n",
    "        if current_time - start_time > 120:  # 如果运行时间超过 2 分钟（120 秒），则停止循环\n",
    "            pygame.mixer.music.stop()\n",
    "            sys.exit()\n",
    "\n",
    "        for event in pygame.event.get():\n",
    "            if event.type == pygame.KEYDOWN:\n",
    "                if event.key == pygame.K_ESCAPE:\n",
    "                    pygame.mixer.music.stop()\n",
    "                    sys.exit()\n",
    "\n",
    "# Stop()"
   ]
  }
 ],
 "metadata": {
  "kernelspec": {
   "display_name": "Python 3 (ipykernel)",
   "language": "python",
   "name": "python3"
  },
  "language_info": {
   "codemirror_mode": {
    "name": "ipython",
    "version": 3
   },
   "file_extension": ".py",
   "mimetype": "text/x-python",
   "name": "python",
   "nbconvert_exporter": "python",
   "pygments_lexer": "ipython3",
   "version": "3.8.15"
  }
 },
 "nbformat": 4,
 "nbformat_minor": 5
}
